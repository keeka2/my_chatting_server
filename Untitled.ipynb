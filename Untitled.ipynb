{
 "cells": [
  {
   "cell_type": "code",
   "execution_count": 13,
   "id": "different-ranking",
   "metadata": {},
   "outputs": [
    {
     "name": "stdout",
     "output_type": "stream",
     "text": [
      "b'b'\n"
     ]
    }
   ],
   "source": [
    "import redis\n",
    "import pickle\n",
    "\n",
    "class Singleton(type):\n",
    "    \"\"\"\n",
    "    An metaclass for singleton purpose. Every singleton class should inherit from this class by 'metaclass=Singleton'.\n",
    "    \"\"\"\n",
    "\n",
    "    _instances = {}\n",
    "\n",
    "    def __call__(cls, *args, **kwargs):\n",
    "        if cls not in cls._instances:\n",
    "            cls._instances[cls] = super(Singleton, cls).__call__(*args, **kwargs)\n",
    "        return cls._instances[cls]\n",
    "\n",
    "\n",
    "class RedisClient(metaclass=Singleton):\n",
    "    HOST = \"127.0.0.1\"\n",
    "    PORT = 6379\n",
    "\n",
    "    def __init__(self):\n",
    "        self.pool = redis.ConnectionPool(\n",
    "            host=self.HOST, port=self.PORT\n",
    "        )\n",
    "\n",
    "    @property\n",
    "    def conn(self):\n",
    "        if not hasattr(self, \"_conn\"):\n",
    "            self.get_connection()\n",
    "        return self._conn\n",
    "\n",
    "    def get_connection(self):\n",
    "        self._conn = redis.Redis(connection_pool=self.pool)\n",
    "\n",
    "\n",
    "if __name__ == \"__main__\":\n",
    "    client = RedisClient()\n",
    "    client.conn.set('a', 'b')\n",
    "    redis_data = client.conn.get('a')\n",
    "    print(redis_data)\n"
   ]
  },
  {
   "cell_type": "code",
   "execution_count": 21,
   "id": "abroad-referral",
   "metadata": {},
   "outputs": [
    {
     "data": {
      "text/plain": [
       "True"
      ]
     },
     "execution_count": 21,
     "metadata": {},
     "output_type": "execute_result"
    }
   ],
   "source": [
    "client = RedisClient()\n",
    "my_list = []\n",
    "l = pickle.dumps(my_list)\n",
    "client.conn.set('test2', l)"
   ]
  },
  {
   "cell_type": "code",
   "execution_count": 23,
   "id": "waiting-methodology",
   "metadata": {},
   "outputs": [
    {
     "data": {
      "text/plain": [
       "6"
      ]
     },
     "execution_count": 23,
     "metadata": {},
     "output_type": "execute_result"
    }
   ],
   "source": [
    "client.conn.append('test2', \"D\")"
   ]
  },
  {
   "cell_type": "code",
   "execution_count": 40,
   "id": "appreciated-binary",
   "metadata": {},
   "outputs": [
    {
     "data": {
      "text/plain": [
       "['5', '4', '3', '2', '1', '5', '4', '3', '2', '1']"
      ]
     },
     "execution_count": 40,
     "metadata": {},
     "output_type": "execute_result"
    }
   ],
   "source": [
    "list(map(bytes.decode, client.conn.lrange(\"test\",0,-1)))"
   ]
  },
  {
   "cell_type": "code",
   "execution_count": 41,
   "id": "hungarian-invite",
   "metadata": {},
   "outputs": [
    {
     "data": {
      "text/plain": [
       "11"
      ]
     },
     "execution_count": 41,
     "metadata": {},
     "output_type": "execute_result"
    }
   ],
   "source": [
    "client.conn.rpush('test', 1)"
   ]
  },
  {
   "cell_type": "code",
   "execution_count": 42,
   "id": "loving-blowing",
   "metadata": {},
   "outputs": [
    {
     "data": {
      "text/plain": [
       "['5', '4', '3', '2', '1', '5', '4', '3', '2', '1', '1']"
      ]
     },
     "execution_count": 42,
     "metadata": {},
     "output_type": "execute_result"
    }
   ],
   "source": [
    "list(map(bytes.decode, client.conn.lrange(\"test\",0,-1)))"
   ]
  },
  {
   "cell_type": "code",
   "execution_count": 47,
   "id": "brilliant-complaint",
   "metadata": {},
   "outputs": [
    {
     "data": {
      "text/plain": [
       "3"
      ]
     },
     "execution_count": 47,
     "metadata": {},
     "output_type": "execute_result"
    }
   ],
   "source": [
    "client.conn.rpush('test3', pickle.dumps({\"a\":\"b\"}), pickle.dumps({\"a2\":\"b2\"}))"
   ]
  },
  {
   "cell_type": "code",
   "execution_count": 48,
   "id": "minute-redhead",
   "metadata": {},
   "outputs": [],
   "source": [
    "a= client.conn.lrange('test3', 0, -1)"
   ]
  },
  {
   "cell_type": "code",
   "execution_count": 49,
   "id": "wired-converter",
   "metadata": {},
   "outputs": [
    {
     "data": {
      "text/plain": [
       "[{'a': 'b'}, {'a': 'b'}, {'a2': 'b2'}]"
      ]
     },
     "execution_count": 49,
     "metadata": {},
     "output_type": "execute_result"
    }
   ],
   "source": [
    "list(map(pickle.loads, a))"
   ]
  },
  {
   "cell_type": "code",
   "execution_count": 50,
   "id": "exempt-celebration",
   "metadata": {},
   "outputs": [
    {
     "data": {
      "text/plain": [
       "[]"
      ]
     },
     "execution_count": 50,
     "metadata": {},
     "output_type": "execute_result"
    }
   ],
   "source": [
    "client.conn.lrange('test33', 0, -1)"
   ]
  },
  {
   "cell_type": "code",
   "execution_count": null,
   "id": "veterinary-combine",
   "metadata": {},
   "outputs": [],
   "source": []
  }
 ],
 "metadata": {
  "kernelspec": {
   "display_name": "Python 3",
   "language": "python",
   "name": "python3"
  },
  "language_info": {
   "codemirror_mode": {
    "name": "ipython",
    "version": 3
   },
   "file_extension": ".py",
   "mimetype": "text/x-python",
   "name": "python",
   "nbconvert_exporter": "python",
   "pygments_lexer": "ipython3",
   "version": "3.9.2"
  }
 },
 "nbformat": 4,
 "nbformat_minor": 5
}
